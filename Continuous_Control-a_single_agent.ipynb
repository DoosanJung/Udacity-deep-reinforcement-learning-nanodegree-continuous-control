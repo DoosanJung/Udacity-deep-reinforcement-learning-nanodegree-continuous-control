{
 "cells": [
  {
   "cell_type": "markdown",
   "metadata": {},
   "source": [
    "# Continuous Control\n",
    "\n",
    "---\n",
    "\n",
    "You are welcome to use this coding environment to train your agent for the project.  Follow the instructions below to get started!\n",
    "\n",
    "### 1. Start the Environment\n",
    "\n",
    "Run the next code cell to install a few packages.  This line will take a few minutes to run!"
   ]
  },
  {
   "cell_type": "code",
   "execution_count": 1,
   "metadata": {},
   "outputs": [
    {
     "name": "stdout",
     "output_type": "stream",
     "text": [
      "\u001b[31mtensorflow 1.7.1 has requirement numpy>=1.13.3, but you'll have numpy 1.12.1 which is incompatible.\u001b[0m\r\n",
      "\u001b[31mipython 6.5.0 has requirement prompt-toolkit<2.0.0,>=1.0.15, but you'll have prompt-toolkit 3.0.20 which is incompatible.\u001b[0m\r\n"
     ]
    }
   ],
   "source": [
    "!pip -q install ./python"
   ]
  },
  {
   "cell_type": "code",
   "execution_count": 2,
   "metadata": {},
   "outputs": [],
   "source": [
    "from workspace_utils import active_session"
   ]
  },
  {
   "cell_type": "markdown",
   "metadata": {},
   "source": [
    "The environments corresponding to both versions of the environment are already saved in the Workspace and can be accessed at the file paths provided below.  \n",
    "\n",
    "Please select one of the two options below for loading the environment."
   ]
  },
  {
   "cell_type": "code",
   "execution_count": 3,
   "metadata": {},
   "outputs": [
    {
     "name": "stderr",
     "output_type": "stream",
     "text": [
      "INFO:unityagents:\n",
      "'Academy' started successfully!\n",
      "Unity Academy name: Academy\n",
      "        Number of Brains: 1\n",
      "        Number of External Brains : 1\n",
      "        Lesson number : 0\n",
      "        Reset Parameters :\n",
      "\t\tgoal_speed -> 1.0\n",
      "\t\tgoal_size -> 5.0\n",
      "Unity brain name: ReacherBrain\n",
      "        Number of Visual Observations (per agent): 0\n",
      "        Vector Observation space type: continuous\n",
      "        Vector Observation space size (per agent): 33\n",
      "        Number of stacked Vector Observation: 1\n",
      "        Vector Action space type: continuous\n",
      "        Vector Action space size (per agent): 4\n",
      "        Vector Action descriptions: , , , \n"
     ]
    }
   ],
   "source": [
    "from unityagents import UnityEnvironment\n",
    "import numpy as np\n",
    "\n",
    "# select this option to load version 1 (with a single agent) of the environment\n",
    "env = UnityEnvironment(file_name='/data/Reacher_One_Linux_NoVis/Reacher_One_Linux_NoVis.x86_64')\n",
    "\n",
    "# select this option to load version 2 (with 20 agents) of the environment\n",
    "#env = UnityEnvironment(file_name='/data/Reacher_Linux_NoVis/Reacher.x86_64')"
   ]
  },
  {
   "cell_type": "markdown",
   "metadata": {},
   "source": [
    "Environments contain **_brains_** which are responsible for deciding the actions of their associated agents. Here we check for the first brain available, and set it as the default brain we will be controlling from Python."
   ]
  },
  {
   "cell_type": "code",
   "execution_count": 4,
   "metadata": {},
   "outputs": [
    {
     "name": "stdout",
     "output_type": "stream",
     "text": [
      "brain_name: ReacherBrain\n",
      "brain: Unity brain name: ReacherBrain\n",
      "        Number of Visual Observations (per agent): 0\n",
      "        Vector Observation space type: continuous\n",
      "        Vector Observation space size (per agent): 33\n",
      "        Number of stacked Vector Observation: 1\n",
      "        Vector Action space type: continuous\n",
      "        Vector Action space size (per agent): 4\n",
      "        Vector Action descriptions: , , , \n"
     ]
    }
   ],
   "source": [
    "# get the default brain\n",
    "brain_name = env.brain_names[0]\n",
    "brain = env.brains[brain_name]\n",
    "print(f'brain_name: {brain_name}')\n",
    "print(f'brain: {brain}')"
   ]
  },
  {
   "cell_type": "markdown",
   "metadata": {},
   "source": [
    "### 2. Examine the State and Action Spaces\n",
    "\n",
    "Run the code cell below to print some information about the environment."
   ]
  },
  {
   "cell_type": "code",
   "execution_count": 5,
   "metadata": {},
   "outputs": [
    {
     "name": "stdout",
     "output_type": "stream",
     "text": [
      "Number of agents: 1\n",
      "Size of each action: 4\n",
      "There are 1 agents. Each observes a state with length: 33\n",
      "The state for the first agent looks like: [  0.00000000e+00  -4.00000000e+00   0.00000000e+00   1.00000000e+00\n",
      "  -0.00000000e+00  -0.00000000e+00  -4.37113883e-08   0.00000000e+00\n",
      "   0.00000000e+00   0.00000000e+00   0.00000000e+00   0.00000000e+00\n",
      "   0.00000000e+00   0.00000000e+00  -1.00000000e+01   0.00000000e+00\n",
      "   1.00000000e+00  -0.00000000e+00  -0.00000000e+00  -4.37113883e-08\n",
      "   0.00000000e+00   0.00000000e+00   0.00000000e+00   0.00000000e+00\n",
      "   0.00000000e+00   0.00000000e+00   5.75471878e+00  -1.00000000e+00\n",
      "   5.55726671e+00   0.00000000e+00   1.00000000e+00   0.00000000e+00\n",
      "  -1.68164849e-01]\n"
     ]
    }
   ],
   "source": [
    "# reset the environment\n",
    "env_info = env.reset(train_mode=True)[brain_name]\n",
    "\n",
    "# number of agents\n",
    "num_agents = len(env_info.agents)\n",
    "print(f'Number of agents: {num_agents}')\n",
    "\n",
    "# size of each action\n",
    "action_size = brain.vector_action_space_size\n",
    "print(f'Size of each action: {action_size}')\n",
    "\n",
    "# examine the state space \n",
    "states = env_info.vector_observations\n",
    "state_size = states.shape[1]\n",
    "print(f'There are {states.shape[0]} agents. Each observes a state with length: {state_size}')\n",
    "print(f'The state for the first agent looks like: {states[0]}')"
   ]
  },
  {
   "cell_type": "code",
   "execution_count": 6,
   "metadata": {},
   "outputs": [
    {
     "data": {
      "text/plain": [
       "(1, 33)"
      ]
     },
     "execution_count": 6,
     "metadata": {},
     "output_type": "execute_result"
    }
   ],
   "source": [
    "states.shape"
   ]
  },
  {
   "cell_type": "code",
   "execution_count": 7,
   "metadata": {},
   "outputs": [
    {
     "data": {
      "text/plain": [
       "array([  0.00000000e+00,  -4.00000000e+00,   0.00000000e+00,\n",
       "         1.00000000e+00,  -0.00000000e+00,  -0.00000000e+00,\n",
       "        -4.37113883e-08,   0.00000000e+00,   0.00000000e+00,\n",
       "         0.00000000e+00,   0.00000000e+00,   0.00000000e+00,\n",
       "         0.00000000e+00,   0.00000000e+00,  -1.00000000e+01,\n",
       "         0.00000000e+00,   1.00000000e+00,  -0.00000000e+00,\n",
       "        -0.00000000e+00,  -4.37113883e-08,   0.00000000e+00,\n",
       "         0.00000000e+00,   0.00000000e+00,   0.00000000e+00,\n",
       "         0.00000000e+00,   0.00000000e+00,   5.75471878e+00,\n",
       "        -1.00000000e+00,   5.55726671e+00,   0.00000000e+00,\n",
       "         1.00000000e+00,   0.00000000e+00,  -1.68164849e-01])"
      ]
     },
     "execution_count": 7,
     "metadata": {},
     "output_type": "execute_result"
    }
   ],
   "source": [
    "states[0]"
   ]
  },
  {
   "cell_type": "markdown",
   "metadata": {},
   "source": [
    "### 3. Take Random Actions in the Environment\n",
    "\n",
    "In the next code cell, you will learn how to use the Python API to control the agent and receive feedback from the environment.\n",
    "\n",
    "Note that **in this coding environment, you will not be able to watch the agents while they are training**, and you should set `train_mode=True` to restart the environment."
   ]
  },
  {
   "cell_type": "code",
   "execution_count": 8,
   "metadata": {},
   "outputs": [],
   "source": [
    "random_action_run = False\n",
    "if random_action_run:\n",
    "    env_info = env.reset(train_mode=True)[brain_name]      # reset the environment    \n",
    "    states = env_info.vector_observations                  # get the current state (for each agent)\n",
    "    scores = np.zeros(num_agents)                          # initialize the score (for each agent)\n",
    "    while True:\n",
    "        actions = np.random.randn(num_agents, action_size) # select an action (for each agent)\n",
    "        actions = np.clip(actions, -1, 1)                  # all actions between -1 and 1\n",
    "        env_info = env.step(actions)[brain_name]           # send all actions to tne environment\n",
    "        next_states = env_info.vector_observations         # get next state (for each agent)\n",
    "        rewards = env_info.rewards                         # get reward (for each agent)\n",
    "        dones = env_info.local_done                        # see if episode finished\n",
    "        scores += env_info.rewards                         # update the score (for each agent)\n",
    "        states = next_states                               # roll over states to next time step\n",
    "        if np.any(dones):                                  # exit loop if episode finished\n",
    "            break\n",
    "    print(f'Total score (averaged over agents) this episode: {np.mean(scores)}')"
   ]
  },
  {
   "cell_type": "markdown",
   "metadata": {},
   "source": [
    "### 4. It's Your Turn!\n",
    "\n",
    "Now it's your turn to train your own agent to solve the environment!  A few **important notes**:\n",
    "- When training the environment, set `train_mode=True`, so that the line for resetting the environment looks like the following:\n",
    "```python\n",
    "env_info = env.reset(train_mode=True)[brain_name]\n",
    "```\n",
    "- To structure your work, you're welcome to work directly in this Jupyter notebook, or you might like to start over with a new file!  You can see the list of files in the workspace by clicking on **_Jupyter_** in the top left corner of the notebook.\n",
    "- In this coding environment, you will not be able to watch the agents while they are training.  However, **_after training the agents_**, you can download the saved model weights to watch the agents on your own machine! "
   ]
  },
  {
   "cell_type": "markdown",
   "metadata": {},
   "source": [
    "## A single agent"
   ]
  },
  {
   "cell_type": "code",
   "execution_count": 9,
   "metadata": {},
   "outputs": [],
   "source": [
    "import torch\n",
    "from collections import deque\n",
    "import matplotlib.pyplot as plt\n",
    "%matplotlib inline\n",
    "\n",
    "from ddpg_agent import Agent"
   ]
  },
  {
   "cell_type": "code",
   "execution_count": 10,
   "metadata": {},
   "outputs": [],
   "source": [
    "agent = Agent(state_size=state_size, action_size=action_size, random_seed=1)"
   ]
  },
  {
   "cell_type": "code",
   "execution_count": 11,
   "metadata": {},
   "outputs": [
    {
     "data": {
      "text/plain": [
       "<ddpg_agent.Agent at 0x7f58bb66a550>"
      ]
     },
     "execution_count": 11,
     "metadata": {},
     "output_type": "execute_result"
    }
   ],
   "source": [
    "# testing...\n",
    "agent"
   ]
  },
  {
   "cell_type": "code",
   "execution_count": 12,
   "metadata": {},
   "outputs": [
    {
     "name": "stdout",
     "output_type": "stream",
     "text": [
      "agent.state_size: 33\n",
      "agent.action_size: 4\n",
      "agent.seed: None\n",
      "agent.actor_local: Actor(\n",
      "  (fc1): Linear(in_features=33, out_features=256, bias=True)\n",
      "  (bn1): BatchNorm1d(256, eps=1e-05, momentum=0.1, affine=True, track_running_stats=True)\n",
      "  (fc2): Linear(in_features=256, out_features=512, bias=True)\n",
      "  (bn2): BatchNorm1d(512, eps=1e-05, momentum=0.1, affine=True, track_running_stats=True)\n",
      "  (fc3): Linear(in_features=512, out_features=4, bias=True)\n",
      ")\n",
      "agent.actor_target: Actor(\n",
      "  (fc1): Linear(in_features=33, out_features=256, bias=True)\n",
      "  (bn1): BatchNorm1d(256, eps=1e-05, momentum=0.1, affine=True, track_running_stats=True)\n",
      "  (fc2): Linear(in_features=256, out_features=512, bias=True)\n",
      "  (bn2): BatchNorm1d(512, eps=1e-05, momentum=0.1, affine=True, track_running_stats=True)\n",
      "  (fc3): Linear(in_features=512, out_features=4, bias=True)\n",
      ")\n",
      "agent.critic_local: Critic(\n",
      "  (fcs1): Linear(in_features=33, out_features=256, bias=True)\n",
      "  (bn1): BatchNorm1d(256, eps=1e-05, momentum=0.1, affine=True, track_running_stats=True)\n",
      "  (fc2): Linear(in_features=260, out_features=512, bias=True)\n",
      "  (bn2): BatchNorm1d(512, eps=1e-05, momentum=0.1, affine=True, track_running_stats=True)\n",
      "  (fc3): Linear(in_features=512, out_features=1, bias=True)\n",
      ")\n",
      "agent.critic_target: Critic(\n",
      "  (fcs1): Linear(in_features=33, out_features=256, bias=True)\n",
      "  (bn1): BatchNorm1d(256, eps=1e-05, momentum=0.1, affine=True, track_running_stats=True)\n",
      "  (fc2): Linear(in_features=260, out_features=512, bias=True)\n",
      "  (bn2): BatchNorm1d(512, eps=1e-05, momentum=0.1, affine=True, track_running_stats=True)\n",
      "  (fc3): Linear(in_features=512, out_features=1, bias=True)\n",
      ")\n",
      "agent.actor_optimizer: Adam (\n",
      "Parameter Group 0\n",
      "    amsgrad: False\n",
      "    betas: (0.9, 0.999)\n",
      "    eps: 1e-08\n",
      "    lr: 0.0005\n",
      "    weight_decay: 0\n",
      ")\n",
      "agent.critic_optimizer: Adam (\n",
      "Parameter Group 0\n",
      "    amsgrad: False\n",
      "    betas: (0.9, 0.999)\n",
      "    eps: 1e-08\n",
      "    lr: 0.0005\n",
      "    weight_decay: 0\n",
      ")\n"
     ]
    }
   ],
   "source": [
    "# examine the agent\n",
    "print(f'agent.state_size: {agent.state_size}')\n",
    "print(f'agent.action_size: {agent.action_size}')\n",
    "print(f'agent.seed: {agent.seed}')\n",
    "print(f'agent.actor_local: {agent.actor_local}')\n",
    "print(f'agent.actor_target: {agent.actor_target}')\n",
    "print(f'agent.critic_local: {agent.critic_local}')\n",
    "print(f'agent.critic_target: {agent.critic_target}')\n",
    "print(f'agent.actor_optimizer: {agent.actor_optimizer}')\n",
    "print(f'agent.critic_optimizer: {agent.critic_optimizer}')"
   ]
  },
  {
   "cell_type": "code",
   "execution_count": 13,
   "metadata": {},
   "outputs": [],
   "source": [
    "def ddpg(n_episodes=1000, max_t=1000, print_every=1):\n",
    "    \"\"\"\n",
    "    Params\n",
    "    ======\n",
    "        n_episodes (int): maximum number of training episodes\n",
    "        max_t (int): maximum number of timestep per episode\n",
    "        print_every: (int): interval to printing results\n",
    "    \"\"\"    \n",
    "    scores_window = deque(maxlen=100)  # mean scores of the last 100 episodes\n",
    "    mean_scores = []                   # mean scores \n",
    "\n",
    "    for i_episode in range(1, n_episodes+1):\n",
    "        env_info = env.reset(train_mode=True)[brain_name]       # reset environment\n",
    "        states = env_info.vector_observations                   # get current state for each agent      \n",
    "        scores = np.zeros(num_agents)                           # initialize score for each agent\n",
    "        \n",
    "        agent.reset()\n",
    "\n",
    "        for t in range(max_t):\n",
    "            actions = agent.act(states, add_noise=True)         # select an action\n",
    "            env_info = env.step(actions)[brain_name]            # send all actions to the environment\n",
    "            next_states = env_info.vector_observations          # get next state (for each agent)\n",
    "            rewards = env_info.rewards                          # get reward (for each agent)\n",
    "            dones = env_info.local_done                         # see if episode finished\n",
    "            \n",
    "            for state, action, reward, next_state, done in zip(states, actions, rewards, next_states, dones):\n",
    "                agent.step(state, action, reward, next_state, done, t) \n",
    "              \n",
    "            scores += env_info.rewards                          # update the score (for each agent)\n",
    "            states = next_states                                # roll over states to next time step\n",
    "            \n",
    "            if t % 100 == 0:\n",
    "                print('\\rTimestep {}\\tScore: {:.2f}'.format(t, np.mean(scores)), end=\"\")\n",
    "            \n",
    "            if np.any(dones):                                   \n",
    "                break\n",
    "        \n",
    "        mean_scores.append(np.mean(scores))           \n",
    "        scores_window.append(mean_scores[-1])\n",
    "                \n",
    "        if i_episode % print_every == 0:\n",
    "            print('\\rEpisode {}\\tScore: {:.2f}\\tAverage Score: {:.2f}'\\\n",
    "                  .format(i_episode, np.mean(scores), np.mean(scores_window)), end=\"\\n\")\n",
    "\n",
    "        if np.mean(scores_window) >= 30.0:\n",
    "            print('\\nEnvironment solved in {:d} episodes!\\tAverage Score: {:.2f}'.format(i_episode, np.mean(scores_window)))\n",
    "            torch.save(agent.actor_local.state_dict(), 'checkpoint_actor.pth')\n",
    "            torch.save(agent.critic_local.state_dict(), 'checkpoint_critic.pth')\n",
    "            break\n",
    "            \n",
    "    return mean_scores"
   ]
  },
  {
   "cell_type": "code",
   "execution_count": 14,
   "metadata": {
    "scrolled": true
   },
   "outputs": [
    {
     "name": "stdout",
     "output_type": "stream",
     "text": [
      "Episode 1\tScore: 0.63\tAverage Score: 0.63\n",
      "Episode 2\tScore: 2.62\tAverage Score: 1.62\n",
      "Episode 3\tScore: 1.09\tAverage Score: 1.45\n",
      "Episode 4\tScore: 1.49\tAverage Score: 1.46\n",
      "Episode 5\tScore: 0.75\tAverage Score: 1.32\n",
      "Episode 6\tScore: 1.56\tAverage Score: 1.36\n",
      "Episode 7\tScore: 1.14\tAverage Score: 1.33\n",
      "Episode 8\tScore: 1.22\tAverage Score: 1.31\n",
      "Episode 9\tScore: 0.49\tAverage Score: 1.22\n",
      "Episode 10\tScore: 1.72\tAverage Score: 1.27\n",
      "Episode 11\tScore: 1.49\tAverage Score: 1.29\n",
      "Episode 12\tScore: 0.73\tAverage Score: 1.24\n",
      "Episode 13\tScore: 0.60\tAverage Score: 1.19\n",
      "Episode 14\tScore: 0.86\tAverage Score: 1.17\n",
      "Episode 15\tScore: 1.97\tAverage Score: 1.22\n",
      "Episode 16\tScore: 0.12\tAverage Score: 1.15\n",
      "Episode 17\tScore: 0.40\tAverage Score: 1.11\n",
      "Episode 18\tScore: 1.04\tAverage Score: 1.11\n",
      "Episode 19\tScore: 2.20\tAverage Score: 1.16\n",
      "Episode 20\tScore: 1.50\tAverage Score: 1.18\n",
      "Episode 21\tScore: 1.80\tAverage Score: 1.21\n",
      "Episode 22\tScore: 1.44\tAverage Score: 1.22\n",
      "Episode 23\tScore: 5.23\tAverage Score: 1.40\n",
      "Episode 24\tScore: 4.56\tAverage Score: 1.53\n",
      "Episode 25\tScore: 3.45\tAverage Score: 1.60\n",
      "Episode 26\tScore: 3.95\tAverage Score: 1.69\n",
      "Episode 27\tScore: 1.80\tAverage Score: 1.70\n",
      "Episode 28\tScore: 2.33\tAverage Score: 1.72\n",
      "Episode 29\tScore: 2.73\tAverage Score: 1.76\n",
      "Episode 30\tScore: 3.98\tAverage Score: 1.83\n",
      "Episode 31\tScore: 2.08\tAverage Score: 1.84\n",
      "Episode 32\tScore: 3.77\tAverage Score: 1.90\n",
      "Episode 33\tScore: 3.87\tAverage Score: 1.96\n",
      "Episode 34\tScore: 5.63\tAverage Score: 2.07\n",
      "Episode 35\tScore: 8.11\tAverage Score: 2.24\n",
      "Episode 36\tScore: 5.35\tAverage Score: 2.32\n",
      "Episode 37\tScore: 2.73\tAverage Score: 2.34\n",
      "Episode 38\tScore: 6.94\tAverage Score: 2.46\n",
      "Episode 39\tScore: 4.99\tAverage Score: 2.52\n",
      "Episode 40\tScore: 2.82\tAverage Score: 2.53\n",
      "Episode 41\tScore: 3.50\tAverage Score: 2.55\n",
      "Episode 42\tScore: 4.20\tAverage Score: 2.59\n",
      "Episode 43\tScore: 5.78\tAverage Score: 2.67\n",
      "Episode 44\tScore: 5.08\tAverage Score: 2.72\n",
      "Episode 45\tScore: 3.92\tAverage Score: 2.75\n",
      "Episode 46\tScore: 4.66\tAverage Score: 2.79\n",
      "Episode 47\tScore: 4.11\tAverage Score: 2.82\n",
      "Episode 48\tScore: 7.88\tAverage Score: 2.92\n",
      "Episode 49\tScore: 8.26\tAverage Score: 3.03\n",
      "Episode 50\tScore: 8.10\tAverage Score: 3.13\n",
      "Episode 51\tScore: 12.56\tAverage Score: 3.32\n",
      "Episode 52\tScore: 6.59\tAverage Score: 3.38\n",
      "Episode 53\tScore: 4.46\tAverage Score: 3.40\n",
      "Episode 54\tScore: 3.11\tAverage Score: 3.40\n",
      "Episode 55\tScore: 5.52\tAverage Score: 3.43\n",
      "Episode 56\tScore: 7.43\tAverage Score: 3.51\n",
      "Episode 57\tScore: 10.63\tAverage Score: 3.63\n",
      "Episode 58\tScore: 9.60\tAverage Score: 3.73\n",
      "Episode 59\tScore: 5.58\tAverage Score: 3.77\n",
      "Episode 60\tScore: 10.26\tAverage Score: 3.87\n",
      "Episode 61\tScore: 5.07\tAverage Score: 3.89\n",
      "Episode 62\tScore: 6.69\tAverage Score: 3.94\n",
      "Episode 63\tScore: 7.11\tAverage Score: 3.99\n",
      "Episode 64\tScore: 3.20\tAverage Score: 3.98\n",
      "Episode 65\tScore: 6.75\tAverage Score: 4.02\n",
      "Episode 66\tScore: 8.77\tAverage Score: 4.09\n",
      "Episode 67\tScore: 6.89\tAverage Score: 4.13\n",
      "Episode 68\tScore: 5.80\tAverage Score: 4.16\n",
      "Episode 69\tScore: 12.17\tAverage Score: 4.27\n",
      "Episode 70\tScore: 15.94\tAverage Score: 4.44\n",
      "Episode 71\tScore: 10.13\tAverage Score: 4.52\n",
      "Episode 72\tScore: 10.70\tAverage Score: 4.61\n",
      "Episode 73\tScore: 10.48\tAverage Score: 4.69\n",
      "Episode 74\tScore: 7.19\tAverage Score: 4.72\n",
      "Episode 75\tScore: 6.41\tAverage Score: 4.74\n",
      "Episode 76\tScore: 6.92\tAverage Score: 4.77\n",
      "Episode 77\tScore: 11.30\tAverage Score: 4.86\n",
      "Episode 78\tScore: 10.08\tAverage Score: 4.92\n",
      "Episode 79\tScore: 8.73\tAverage Score: 4.97\n",
      "Episode 80\tScore: 9.82\tAverage Score: 5.03\n",
      "Episode 81\tScore: 5.38\tAverage Score: 5.04\n",
      "Episode 82\tScore: 10.58\tAverage Score: 5.10\n",
      "Episode 83\tScore: 14.31\tAverage Score: 5.21\n",
      "Episode 84\tScore: 10.11\tAverage Score: 5.27\n",
      "Episode 85\tScore: 3.43\tAverage Score: 5.25\n",
      "Episode 86\tScore: 11.61\tAverage Score: 5.33\n",
      "Episode 87\tScore: 7.24\tAverage Score: 5.35\n",
      "Episode 88\tScore: 9.09\tAverage Score: 5.39\n",
      "Episode 89\tScore: 4.99\tAverage Score: 5.39\n",
      "Episode 90\tScore: 9.90\tAverage Score: 5.44\n",
      "Episode 91\tScore: 25.89\tAverage Score: 5.66\n",
      "Episode 92\tScore: 8.87\tAverage Score: 5.70\n",
      "Episode 93\tScore: 11.89\tAverage Score: 5.76\n",
      "Episode 94\tScore: 5.73\tAverage Score: 5.76\n",
      "Episode 95\tScore: 10.89\tAverage Score: 5.82\n",
      "Episode 96\tScore: 11.76\tAverage Score: 5.88\n",
      "Episode 97\tScore: 6.66\tAverage Score: 5.89\n",
      "Episode 98\tScore: 5.43\tAverage Score: 5.88\n",
      "Episode 99\tScore: 11.15\tAverage Score: 5.93\n",
      "Episode 100\tScore: 15.63\tAverage Score: 6.03\n",
      "Episode 101\tScore: 14.65\tAverage Score: 6.17\n",
      "Episode 102\tScore: 15.24\tAverage Score: 6.30\n",
      "Episode 103\tScore: 4.80\tAverage Score: 6.33\n",
      "Episode 104\tScore: 8.76\tAverage Score: 6.41\n",
      "Episode 105\tScore: 11.03\tAverage Score: 6.51\n",
      "Episode 106\tScore: 14.52\tAverage Score: 6.64\n",
      "Episode 107\tScore: 16.51\tAverage Score: 6.79\n",
      "Episode 108\tScore: 7.15\tAverage Score: 6.85\n",
      "Episode 109\tScore: 11.69\tAverage Score: 6.96\n",
      "Episode 110\tScore: 20.99\tAverage Score: 7.16\n",
      "Episode 111\tScore: 10.58\tAverage Score: 7.25\n",
      "Episode 112\tScore: 14.72\tAverage Score: 7.39\n",
      "Episode 113\tScore: 14.16\tAverage Score: 7.52\n",
      "Episode 114\tScore: 10.89\tAverage Score: 7.62\n",
      "Episode 116\tScore: 7.01\tAverage Score: 7.83\n",
      "Episode 117\tScore: 14.12\tAverage Score: 7.96\n",
      "Episode 118\tScore: 12.14\tAverage Score: 8.07\n",
      "Episode 119\tScore: 21.27\tAverage Score: 8.26\n",
      "Episode 120\tScore: 18.04\tAverage Score: 8.43\n",
      "Episode 121\tScore: 19.03\tAverage Score: 8.60\n",
      "Episode 122\tScore: 25.00\tAverage Score: 8.84\n",
      "Episode 123\tScore: 10.48\tAverage Score: 8.89\n",
      "Episode 124\tScore: 10.32\tAverage Score: 8.95\n",
      "Episode 125\tScore: 19.88\tAverage Score: 9.11\n",
      "Episode 126\tScore: 14.57\tAverage Score: 9.22\n",
      "Episode 127\tScore: 13.25\tAverage Score: 9.33\n",
      "Episode 128\tScore: 9.92\tAverage Score: 9.41\n",
      "Episode 129\tScore: 19.88\tAverage Score: 9.58\n",
      "Episode 130\tScore: 9.00\tAverage Score: 9.63\n",
      "Episode 131\tScore: 16.48\tAverage Score: 9.77\n",
      "Episode 132\tScore: 8.84\tAverage Score: 9.82\n",
      "Episode 133\tScore: 19.73\tAverage Score: 9.98\n",
      "Episode 134\tScore: 14.08\tAverage Score: 10.07\n",
      "Episode 135\tScore: 14.50\tAverage Score: 10.13\n",
      "Episode 136\tScore: 18.18\tAverage Score: 10.26\n",
      "Episode 137\tScore: 17.95\tAverage Score: 10.41\n",
      "Episode 138\tScore: 18.58\tAverage Score: 10.53\n",
      "Episode 139\tScore: 17.92\tAverage Score: 10.66\n",
      "Episode 140\tScore: 16.43\tAverage Score: 10.79\n",
      "Episode 141\tScore: 18.63\tAverage Score: 10.95\n",
      "Episode 142\tScore: 9.46\tAverage Score: 11.00\n",
      "Episode 143\tScore: 11.84\tAverage Score: 11.06\n",
      "Episode 144\tScore: 17.97\tAverage Score: 11.19\n",
      "Episode 145\tScore: 9.24\tAverage Score: 11.24\n",
      "Episode 146\tScore: 21.36\tAverage Score: 11.41\n",
      "Episode 147\tScore: 20.29\tAverage Score: 11.57\n",
      "Episode 148\tScore: 19.39\tAverage Score: 11.68\n",
      "Episode 149\tScore: 21.55\tAverage Score: 11.82\n",
      "Episode 150\tScore: 18.46\tAverage Score: 11.92\n",
      "Episode 151\tScore: 13.33\tAverage Score: 11.93\n",
      "Episode 152\tScore: 20.43\tAverage Score: 12.07\n",
      "Episode 153\tScore: 15.05\tAverage Score: 12.17\n",
      "Episode 154\tScore: 21.32\tAverage Score: 12.36\n",
      "Episode 155\tScore: 13.54\tAverage Score: 12.44\n",
      "Episode 156\tScore: 8.94\tAverage Score: 12.45\n",
      "Episode 157\tScore: 15.40\tAverage Score: 12.50\n",
      "Episode 158\tScore: 14.55\tAverage Score: 12.55\n",
      "Episode 159\tScore: 31.25\tAverage Score: 12.80\n",
      "Episode 160\tScore: 18.27\tAverage Score: 12.88\n",
      "Episode 161\tScore: 23.88\tAverage Score: 13.07\n",
      "Episode 162\tScore: 25.00\tAverage Score: 13.26\n",
      "Episode 163\tScore: 17.14\tAverage Score: 13.36\n",
      "Episode 164\tScore: 26.62\tAverage Score: 13.59\n",
      "Episode 165\tScore: 21.33\tAverage Score: 13.74\n",
      "Episode 166\tScore: 29.10\tAverage Score: 13.94\n",
      "Episode 167\tScore: 38.40\tAverage Score: 14.25\n",
      "Episode 168\tScore: 24.75\tAverage Score: 14.44\n",
      "Episode 169\tScore: 31.47\tAverage Score: 14.64\n",
      "Episode 170\tScore: 23.73\tAverage Score: 14.71\n",
      "Episode 171\tScore: 22.41\tAverage Score: 14.84\n",
      "Episode 172\tScore: 24.35\tAverage Score: 14.97\n",
      "Episode 173\tScore: 20.16\tAverage Score: 15.07\n",
      "Episode 174\tScore: 22.65\tAverage Score: 15.23\n",
      "Episode 175\tScore: 29.77\tAverage Score: 15.46\n",
      "Episode 176\tScore: 22.71\tAverage Score: 15.62\n",
      "Episode 177\tScore: 19.31\tAverage Score: 15.70\n",
      "Episode 178\tScore: 8.02\tAverage Score: 15.68\n",
      "Episode 179\tScore: 11.42\tAverage Score: 15.70\n",
      "Episode 180\tScore: 17.26\tAverage Score: 15.78\n",
      "Episode 181\tScore: 21.14\tAverage Score: 15.94\n",
      "Episode 182\tScore: 24.68\tAverage Score: 16.08\n",
      "Episode 183\tScore: 20.75\tAverage Score: 16.14\n",
      "Episode 184\tScore: 31.09\tAverage Score: 16.35\n",
      "Episode 185\tScore: 25.90\tAverage Score: 16.58\n",
      "Episode 186\tScore: 32.48\tAverage Score: 16.78\n",
      "Episode 187\tScore: 33.50\tAverage Score: 17.05\n",
      "Episode 188\tScore: 30.50\tAverage Score: 17.26\n",
      "Episode 189\tScore: 29.26\tAverage Score: 17.50\n",
      "Episode 190\tScore: 33.41\tAverage Score: 17.74\n",
      "Episode 191\tScore: 25.38\tAverage Score: 17.73\n",
      "Episode 192\tScore: 25.04\tAverage Score: 17.90\n",
      "Episode 193\tScore: 25.84\tAverage Score: 18.03\n",
      "Episode 194\tScore: 28.29\tAverage Score: 18.26\n",
      "Episode 195\tScore: 26.68\tAverage Score: 18.42\n",
      "Episode 196\tScore: 30.71\tAverage Score: 18.61\n",
      "Episode 197\tScore: 33.11\tAverage Score: 18.87\n",
      "Episode 198\tScore: 16.23\tAverage Score: 18.98\n",
      "Episode 199\tScore: 18.09\tAverage Score: 19.05\n",
      "Episode 200\tScore: 29.96\tAverage Score: 19.19\n",
      "Episode 201\tScore: 32.91\tAverage Score: 19.38\n",
      "Episode 202\tScore: 33.33\tAverage Score: 19.56\n",
      "Episode 203\tScore: 5.10\tAverage Score: 19.56\n",
      "Episode 204\tScore: 27.63\tAverage Score: 19.75\n",
      "Episode 205\tScore: 30.05\tAverage Score: 19.94\n",
      "Episode 206\tScore: 31.51\tAverage Score: 20.11\n",
      "Episode 207\tScore: 28.71\tAverage Score: 20.23\n",
      "Episode 208\tScore: 17.16\tAverage Score: 20.33\n",
      "Episode 209\tScore: 23.52\tAverage Score: 20.45\n",
      "Episode 210\tScore: 22.08\tAverage Score: 20.46\n",
      "Episode 211\tScore: 34.70\tAverage Score: 20.70\n",
      "Episode 212\tScore: 31.40\tAverage Score: 20.87\n",
      "Episode 213\tScore: 11.29\tAverage Score: 20.84\n",
      "Episode 214\tScore: 20.86\tAverage Score: 20.94\n",
      "Episode 215\tScore: 20.17\tAverage Score: 20.99\n",
      "Episode 216\tScore: 26.70\tAverage Score: 21.18\n",
      "Episode 217\tScore: 28.81\tAverage Score: 21.33\n",
      "Episode 218\tScore: 25.16\tAverage Score: 21.46\n",
      "Episode 219\tScore: 25.52\tAverage Score: 21.50\n",
      "Episode 220\tScore: 33.87\tAverage Score: 21.66\n",
      "Episode 221\tScore: 31.12\tAverage Score: 21.78\n",
      "Episode 222\tScore: 30.95\tAverage Score: 21.84\n",
      "Episode 223\tScore: 32.37\tAverage Score: 22.06\n",
      "Episode 224\tScore: 15.32\tAverage Score: 22.11\n",
      "Episode 225\tScore: 36.63\tAverage Score: 22.28\n",
      "Episode 226\tScore: 30.05\tAverage Score: 22.43\n",
      "Episode 227\tScore: 27.43\tAverage Score: 22.58\n",
      "Episode 228\tScore: 11.39\tAverage Score: 22.59\n",
      "Episode 229\tScore: 35.54\tAverage Score: 22.75\n",
      "Episode 230\tScore: 11.28\tAverage Score: 22.77\n",
      "Episode 231\tScore: 23.03\tAverage Score: 22.84\n",
      "Episode 232\tScore: 32.00\tAverage Score: 23.07\n",
      "Episode 233\tScore: 39.00\tAverage Score: 23.26\n",
      "Episode 234\tScore: 34.75\tAverage Score: 23.47\n",
      "Episode 235\tScore: 29.78\tAverage Score: 23.62\n",
      "Episode 236\tScore: 33.06\tAverage Score: 23.77\n",
      "Episode 237\tScore: 26.46\tAverage Score: 23.85\n",
      "Episode 238\tScore: 37.16\tAverage Score: 24.04\n",
      "Episode 239\tScore: 27.15\tAverage Score: 24.13\n",
      "Episode 240\tScore: 29.13\tAverage Score: 24.26\n",
      "Episode 241\tScore: 31.50\tAverage Score: 24.39\n",
      "Episode 242\tScore: 23.27\tAverage Score: 24.53\n",
      "Episode 243\tScore: 26.51\tAverage Score: 24.67\n",
      "Episode 244\tScore: 32.48\tAverage Score: 24.82\n",
      "Episode 245\tScore: 31.43\tAverage Score: 25.04\n",
      "Episode 246\tScore: 26.19\tAverage Score: 25.09\n",
      "Episode 247\tScore: 31.59\tAverage Score: 25.20\n",
      "Episode 248\tScore: 37.85\tAverage Score: 25.39\n",
      "Episode 249\tScore: 23.20\tAverage Score: 25.40\n",
      "Episode 250\tScore: 26.92\tAverage Score: 25.49\n",
      "Episode 251\tScore: 31.82\tAverage Score: 25.67\n",
      "Episode 252\tScore: 35.70\tAverage Score: 25.82\n",
      "Episode 253\tScore: 11.60\tAverage Score: 25.79\n",
      "Episode 254\tScore: 35.75\tAverage Score: 25.93\n",
      "Episode 255\tScore: 36.56\tAverage Score: 26.16\n",
      "Episode 256\tScore: 36.40\tAverage Score: 26.44\n",
      "Episode 257\tScore: 32.44\tAverage Score: 26.61\n",
      "Episode 258\tScore: 33.03\tAverage Score: 26.79\n",
      "Episode 259\tScore: 37.84\tAverage Score: 26.86\n",
      "Episode 260\tScore: 37.75\tAverage Score: 27.05\n",
      "Episode 261\tScore: 36.53\tAverage Score: 27.18\n",
      "Episode 262\tScore: 36.92\tAverage Score: 27.30\n",
      "Episode 263\tScore: 16.21\tAverage Score: 27.29\n",
      "Episode 264\tScore: 37.01\tAverage Score: 27.39\n",
      "Episode 265\tScore: 32.27\tAverage Score: 27.50\n",
      "Episode 266\tScore: 33.10\tAverage Score: 27.54\n",
      "Episode 267\tScore: 32.30\tAverage Score: 27.48\n",
      "Episode 268\tScore: 28.39\tAverage Score: 27.52\n",
      "Episode 269\tScore: 33.54\tAverage Score: 27.54\n",
      "Episode 270\tScore: 35.73\tAverage Score: 27.66\n",
      "Episode 271\tScore: 22.23\tAverage Score: 27.66\n",
      "Episode 272\tScore: 29.57\tAverage Score: 27.71\n",
      "Episode 273\tScore: 35.56\tAverage Score: 27.86\n",
      "Episode 274\tScore: 31.20\tAverage Score: 27.95\n",
      "Episode 275\tScore: 16.05\tAverage Score: 27.81\n",
      "Episode 276\tScore: 31.01\tAverage Score: 27.90\n",
      "Episode 277\tScore: 34.66\tAverage Score: 28.05\n",
      "Episode 278\tScore: 32.11\tAverage Score: 28.29\n",
      "Episode 279\tScore: 32.44\tAverage Score: 28.50\n",
      "Episode 280\tScore: 35.59\tAverage Score: 28.68\n",
      "Episode 281\tScore: 32.10\tAverage Score: 28.79\n",
      "Episode 282\tScore: 33.18\tAverage Score: 28.88\n",
      "Episode 283\tScore: 34.97\tAverage Score: 29.02\n",
      "Episode 284\tScore: 31.34\tAverage Score: 29.02\n",
      "Episode 285\tScore: 35.24\tAverage Score: 29.12\n",
      "Episode 286\tScore: 28.76\tAverage Score: 29.08\n",
      "Episode 287\tScore: 29.10\tAverage Score: 29.04\n",
      "Episode 288\tScore: 34.53\tAverage Score: 29.08\n",
      "Episode 289\tScore: 16.15\tAverage Score: 28.94\n",
      "Episode 290\tScore: 7.55\tAverage Score: 28.69\n",
      "Episode 291\tScore: 34.43\tAverage Score: 28.78\n",
      "Episode 292\tScore: 10.66\tAverage Score: 28.63\n",
      "Episode 293\tScore: 32.30\tAverage Score: 28.70\n",
      "Episode 294\tScore: 35.20\tAverage Score: 28.77\n",
      "Episode 295\tScore: 36.24\tAverage Score: 28.86\n",
      "Episode 296\tScore: 29.88\tAverage Score: 28.85\n",
      "Episode 297\tScore: 29.17\tAverage Score: 28.81\n",
      "Episode 298\tScore: 26.71\tAverage Score: 28.92\n",
      "Episode 299\tScore: 31.40\tAverage Score: 29.05\n",
      "Episode 300\tScore: 32.46\tAverage Score: 29.08\n",
      "Episode 301\tScore: 30.49\tAverage Score: 29.05\n",
      "Episode 302\tScore: 20.63\tAverage Score: 28.93\n",
      "Episode 303\tScore: 29.77\tAverage Score: 29.17\n",
      "Episode 304\tScore: 33.45\tAverage Score: 29.23\n",
      "Episode 305\tScore: 30.11\tAverage Score: 29.23\n",
      "Episode 306\tScore: 27.80\tAverage Score: 29.19\n",
      "Episode 307\tScore: 35.67\tAverage Score: 29.26\n",
      "Episode 308\tScore: 8.44\tAverage Score: 29.18\n",
      "Episode 309\tScore: 38.12\tAverage Score: 29.32\n",
      "Episode 310\tScore: 31.05\tAverage Score: 29.41\n",
      "Episode 311\tScore: 34.72\tAverage Score: 29.41\n",
      "Episode 312\tScore: 27.72\tAverage Score: 29.38\n",
      "Episode 313\tScore: 35.69\tAverage Score: 29.62\n",
      "Episode 314\tScore: 36.90\tAverage Score: 29.78\n",
      "Episode 315\tScore: 6.42\tAverage Score: 29.64\n",
      "Episode 316\tScore: 33.10\tAverage Score: 29.71\n",
      "Episode 317\tScore: 33.23\tAverage Score: 29.75\n",
      "Episode 318\tScore: 35.77\tAverage Score: 29.86\n",
      "Episode 319\tScore: 34.46\tAverage Score: 29.95\n",
      "Episode 320\tScore: 37.48\tAverage Score: 29.98\n",
      "Episode 321\tScore: 38.67\tAverage Score: 30.06\n",
      "\n",
      "Environment solved in 321 episodes!\tAverage Score: 30.06\n"
     ]
    }
   ],
   "source": [
    "with active_session():\n",
    "    scores = ddpg()"
   ]
  },
  {
   "cell_type": "code",
   "execution_count": 15,
   "metadata": {},
   "outputs": [
    {
     "data": {
      "image/png": "[encoded data removed]",
      "text/plain": [
       "<matplotlib.figure.Figure at 0x7f586bad1588>"
      ]
     },
     "metadata": {
      "needs_background": "light"
     },
     "output_type": "display_data"
    }
   ],
   "source": [
    "plt.plot(np.arange(1, len(scores)+1), scores, label='mean scores')\n",
    "plt.legend(loc='upper left');\n",
    "plt.ylabel('Score')\n",
    "plt.xlabel('Episode #')\n",
    "plt.show()"
   ]
  },
  {
   "cell_type": "markdown",
   "metadata": {},
   "source": [
    "When finished, you can close the environment."
   ]
  },
  {
   "cell_type": "markdown",
   "metadata": {},
   "source": [
    "## Watch the trained agent"
   ]
  },
  {
   "cell_type": "code",
   "execution_count": 16,
   "metadata": {},
   "outputs": [],
   "source": [
    "# load the agent\n",
    "agent.actor_local.load_state_dict(torch.load('checkpoint_actor.pth'))\n",
    "agent.critic_local.load_state_dict(torch.load('checkpoint_critic.pth'))"
   ]
  },
  {
   "cell_type": "code",
   "execution_count": 17,
   "metadata": {},
   "outputs": [
    {
     "name": "stdout",
     "output_type": "stream",
     "text": [
      "Total score (averaged over agents) this episode: 18.9\n"
     ]
    }
   ],
   "source": [
    "env_info = env.reset(train_mode=False)[brain_name]      \n",
    "states = env_info.vector_observations\n",
    "\n",
    "while True:\n",
    "    actions = agent.act(states, add_noise=False)                        \n",
    "    env_info = env.step(actions)[brain_name]\n",
    "    next_states = env_info.vector_observations\n",
    "    rewards = env_info.rewards\n",
    "    dones = env_info.local_done\n",
    "    scores + env_info.rewards\n",
    "    states = next_states\n",
    "\n",
    "    if np.any(dones):\n",
    "        print('Total score (averaged over agents) this episode: {:.1f}'.format(np.mean(scores)))\n",
    "        break"
   ]
  },
  {
   "cell_type": "code",
   "execution_count": 18,
   "metadata": {},
   "outputs": [],
   "source": [
    "env.close()"
   ]
  },
  {
   "cell_type": "code",
   "execution_count": null,
   "metadata": {},
   "outputs": [],
   "source": []
  },
  {
   "cell_type": "code",
   "execution_count": null,
   "metadata": {},
   "outputs": [],
   "source": []
  }
 ],
 "metadata": {
  "kernelspec": {
   "display_name": "Python 3",
   "language": "python",
   "name": "python3"
  },
  "language_info": {
   "codemirror_mode": {
    "name": "ipython",
    "version": 3
   },
   "file_extension": ".py",
   "mimetype": "text/x-python",
   "name": "python",
   "nbconvert_exporter": "python",
   "pygments_lexer": "ipython3",
   "version": "3.6.3"
  }
 },
 "nbformat": 4,
 "nbformat_minor": 2
}
